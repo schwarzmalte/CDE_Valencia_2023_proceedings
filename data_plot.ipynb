{
 "cells": [
  {
   "cell_type": "code",
   "execution_count": 28,
   "metadata": {},
   "outputs": [],
   "source": [
    "#import packages\n",
    "from scipy import constants #necessary physical constants\n",
    "import pandas as pd #read the data\n",
    "import matplotlib.pyplot as plt #plot the data"
   ]
  },
  {
   "cell_type": "code",
   "execution_count": 36,
   "metadata": {},
   "outputs": [],
   "source": [
    "#device properties\n",
    "device_surface_A = constants.pi*(100*1E-4)**2 #[cm**2], circular diodes of 100um radius\n",
    "eps_GaAs = 12.9 #dielectric constant of GaAs"
   ]
  },
  {
   "cell_type": "code",
   "execution_count": 45,
   "metadata": {},
   "outputs": [],
   "source": [
    "#read the data into a data frame function\n",
    "def data_prep(file):\n",
    "    df = pd.read_csv(file,sep='\\t',header=None,names=[\"Voltage\",\"C (pF)\",\"G (uS)\"],skiprows=1) #tab separated file with empty first row\n",
    "    df['C (F/cm2)'] = df['C (pF)']*1E-12/device_surface_A #capacitance density\n",
    "    df['N_CV'] = (-2/constants.e*eps_GaAs*constants.epsilon_0/100)*(((df['C (F/cm2)'])**2).diff()/df['Voltage'].diff()) #carrier concentration\n",
    "    df['W'] = eps_GaAs*(constants.epsilon_0/100)/df['C (F/cm2)']*1e7 #calculate depletion width in nm, /100 for m->cm , 1E7 for cm->nm\n",
    "    df['Q'] = None #Calculate Quality factor\n",
    "    print(df)\n",
    "#perform calculations on data frame"
   ]
  },
  {
   "cell_type": "code",
   "execution_count": 46,
   "metadata": {},
   "outputs": [
    {
     "name": "stdout",
     "output_type": "stream",
     "text": [
      "     Voltage  C (pF)  G (uS)     C (F/cm2)          N_CV           W     Q\n",
      "0      -0.50   5.496   1.569  1.749431e-08           NaN  652.892363  None\n",
      "1      -0.49   5.497   1.561  1.749749e-08 -1.588088e-10  652.773591  None\n",
      "2      -0.48   5.502   1.567  1.751341e-08 -7.944773e-10  652.180376  None\n",
      "3      -0.47   5.504   1.571  1.751978e-08 -3.179932e-10  651.943392  None\n",
      "4      -0.46   5.508   1.573  1.753251e-08 -6.363331e-10  651.469940  None\n",
      "..       ...     ...     ...           ...           ...         ...   ...\n",
      "156     1.06 -20.480 -20.480 -6.518986e-08 -0.000000e+00 -175.209787  None\n",
      "157     1.07 -20.480 -20.480 -6.518986e-08 -0.000000e+00 -175.209787  None\n",
      "158     1.08 -20.480 -20.480 -6.518986e-08 -0.000000e+00 -175.209787  None\n",
      "159     1.09 -20.480 -20.480 -6.518986e-08 -0.000000e+00 -175.209787  None\n",
      "160     1.10 -20.480 -20.480 -6.518986e-08 -0.000000e+00 -175.209787  None\n",
      "\n",
      "[161 rows x 7 columns]\n"
     ]
    }
   ],
   "source": [
    "file = \"data/GaAs/2159_MS48_H2_CV_293K_2.dat\"\n",
    "data_prep(file)"
   ]
  },
  {
   "cell_type": "code",
   "execution_count": null,
   "metadata": {},
   "outputs": [],
   "source": [
    "#plot the data frame function"
   ]
  },
  {
   "cell_type": "code",
   "execution_count": 4,
   "metadata": {},
   "outputs": [],
   "source": [
    "#plot everything for every folder"
   ]
  },
  {
   "cell_type": "code",
   "execution_count": null,
   "metadata": {},
   "outputs": [],
   "source": []
  }
 ],
 "metadata": {
  "kernelspec": {
   "display_name": "base",
   "language": "python",
   "name": "python3"
  },
  "language_info": {
   "codemirror_mode": {
    "name": "ipython",
    "version": 3
   },
   "file_extension": ".py",
   "mimetype": "text/x-python",
   "name": "python",
   "nbconvert_exporter": "python",
   "pygments_lexer": "ipython3",
   "version": "3.11.4"
  }
 },
 "nbformat": 4,
 "nbformat_minor": 2
}
